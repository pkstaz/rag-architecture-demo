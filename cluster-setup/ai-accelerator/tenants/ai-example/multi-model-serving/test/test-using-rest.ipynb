{
 "cells": [
  {
   "cell_type": "markdown",
   "id": "8f556f87-129a-4227-8f8b-43c7412e74d2",
   "metadata": {},
   "source": [
    "# Test the Multi-Serving Model\n",
    "\n",
    "Complete and run this notebook to test your deployed model."
   ]
  },
  {
   "cell_type": "code",
   "execution_count": null,
   "id": "4033e87d-fe10-4870-8bb1-e3a1c0b758af",
   "metadata": {},
   "outputs": [],
   "source": [
    "# deployed_model_name = \"fraud-detection-model\"\n",
    "# rest_url = \"http://modelmesh-serving-url:8008\"\n",
    "# infer_url = f\"{rest_url}/v2/models/{deployed_model_name}/infer\"\n",
    "\n",
    "infer_url = \"https://fraud-detection-model-ai-example-multi-model-serving.apps.cluster-4jksb.dynamic.redhatworkshops.io/v2/models/fraud-detection-model/infer\""
   ]
  },
  {
   "cell_type": "code",
   "execution_count": null,
   "id": "da93a99f-3a28-4edf-a570-11523438a4eb",
   "metadata": {},
   "outputs": [],
   "source": [
    "import requests\n",
    "\n",
    "def rest_request(data):\n",
    "    json_data = {\n",
    "        \"inputs\": [\n",
    "            {\n",
    "                \"name\": \"dense_input\",\n",
    "                \"shape\": [1, 5],\n",
    "                \"datatype\": \"FP32\",\n",
    "                \"data\": data\n",
    "            }\n",
    "        ]\n",
    "    }\n",
    "\n",
    "    response = requests.post(infer_url, json=json_data)\n",
    "    response_dict = response.json()\n",
    "    return response_dict['outputs'][0]['data']"
   ]
  },
  {
   "cell_type": "code",
   "execution_count": null,
   "id": "5bfbaf0d-b14e-44cd-af51-cfb0911a406d",
   "metadata": {},
   "outputs": [],
   "source": [
    "data = [0.3111400080477545, 1.9459399775518593, 1.0, 0.0, 0.0]\n",
    "prediction = rest_request(data)\n",
    "prediction"
   ]
  },
  {
   "cell_type": "code",
   "execution_count": null,
   "id": "002057f0-81d9-499f-b676-f9ce9a54200d",
   "metadata": {},
   "outputs": [],
   "source": [
    "threshhold = 0.995\n",
    "\n",
    "if (prediction[0] > threshhold):\n",
    "    print('fraud')\n",
    "else:\n",
    "    print('not fraud')"
   ]
  }
 ],
 "metadata": {
  "kernelspec": {
   "display_name": "Python 3.9.16",
   "language": "python",
   "name": "python3"
  },
  "language_info": {
   "codemirror_mode": {
    "name": "ipython",
    "version": 3
   },
   "file_extension": ".py",
   "mimetype": "text/x-python",
   "name": "python",
   "nbconvert_exporter": "python",
   "pygments_lexer": "ipython3",
   "version": "3.11.8"
  }
 },
 "nbformat": 4,
 "nbformat_minor": 5
}
